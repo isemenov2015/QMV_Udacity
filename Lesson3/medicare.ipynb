{
 "cells": [
  {
   "cell_type": "code",
   "execution_count": 2,
   "metadata": {
    "collapsed": false,
    "deletable": true,
    "editable": true
   },
   "outputs": [
    {
     "name": "stdout",
     "output_type": "stream",
     "text": [
      "Populating the interactive namespace from numpy and matplotlib\n"
     ]
    }
   ],
   "source": [
    "%pylab inline\n",
    "from IPython.display import HTML\n",
    "%matplotlib inline\n",
    "\n",
    "import os\n",
    "import sys\n",
    "try:\n",
    "    from StringIO import StringIO\n",
    "except ImportError:\n",
    "    from io import StringIO\n",
    "import scipy\n",
    "import seaborn as sns\n",
    "\n",
    "from pandas import read_csv\n",
    "import matplotlib.pyplot as plt\n",
    "\n",
    "cwd = os.getcwd()\n",
    "\n",
    "#MedData = cwd +\"/medicare_data/Medicare-Physician-and-Other-Supplier-PUF-CY2012.csv\"\n",
    "#data = read_csv(MedData, sep=\"\\t\")\n",
    "\n",
    "#g_IL=data[data[\"nppes_provider_state\"]==\"IL\"] \n",
    "#f_IL=g_IL[g_IL[\"provider_type\"]==\"Pathology\"]\n",
    "\n",
    "IL_data = cwd +\"/medicare_data/Medicare_Data_IL_2012.csv\"\n",
    "f_IL = read_csv(IL_data)"
   ]
  },
  {
   "cell_type": "code",
   "execution_count": 3,
   "metadata": {
    "collapsed": false,
    "deletable": true,
    "editable": true
   },
   "outputs": [
    {
     "data": {
      "text/html": [
       "<div>\n",
       "<table border=\"1\" class=\"dataframe\">\n",
       "  <thead>\n",
       "    <tr style=\"text-align: right;\">\n",
       "      <th></th>\n",
       "      <th>Unnamed: 0</th>\n",
       "      <th>npi</th>\n",
       "      <th>nppes_provider_zip</th>\n",
       "      <th>line_srvc_cnt</th>\n",
       "      <th>bene_unique_cnt</th>\n",
       "      <th>bene_day_srvc_cnt</th>\n",
       "      <th>average_Medicare_allowed_amt</th>\n",
       "      <th>stdev_Medicare_allowed_amt</th>\n",
       "      <th>average_submitted_chrg_amt</th>\n",
       "      <th>stdev_submitted_chrg_amt</th>\n",
       "      <th>average_Medicare_payment_amt</th>\n",
       "      <th>stdev_Medicare_payment_amt</th>\n",
       "    </tr>\n",
       "  </thead>\n",
       "  <tbody>\n",
       "    <tr>\n",
       "      <th>count</th>\n",
       "      <td>3.838360e+05</td>\n",
       "      <td>3.838360e+05</td>\n",
       "      <td>3.838360e+05</td>\n",
       "      <td>3.838360e+05</td>\n",
       "      <td>383836.000000</td>\n",
       "      <td>383836.000000</td>\n",
       "      <td>383836.000000</td>\n",
       "      <td>383836.000000</td>\n",
       "      <td>383836.000000</td>\n",
       "      <td>383836.000000</td>\n",
       "      <td>383836.000000</td>\n",
       "      <td>383836.000000</td>\n",
       "    </tr>\n",
       "    <tr>\n",
       "      <th>mean</th>\n",
       "      <td>4.590852e+06</td>\n",
       "      <td>1.500959e+09</td>\n",
       "      <td>5.419772e+08</td>\n",
       "      <td>2.342250e+02</td>\n",
       "      <td>87.829404</td>\n",
       "      <td>148.955275</td>\n",
       "      <td>98.711634</td>\n",
       "      <td>6.523625</td>\n",
       "      <td>342.210917</td>\n",
       "      <td>23.792301</td>\n",
       "      <td>76.799866</td>\n",
       "      <td>12.313532</td>\n",
       "    </tr>\n",
       "    <tr>\n",
       "      <th>std</th>\n",
       "      <td>2.631574e+06</td>\n",
       "      <td>2.867022e+08</td>\n",
       "      <td>1.901098e+08</td>\n",
       "      <td>4.080380e+03</td>\n",
       "      <td>602.548455</td>\n",
       "      <td>1111.001193</td>\n",
       "      <td>190.735353</td>\n",
       "      <td>36.948683</td>\n",
       "      <td>929.079600</td>\n",
       "      <td>168.214616</td>\n",
       "      <td>150.965856</td>\n",
       "      <td>33.020354</td>\n",
       "    </tr>\n",
       "    <tr>\n",
       "      <th>min</th>\n",
       "      <td>8.000000e+00</td>\n",
       "      <td>1.003000e+09</td>\n",
       "      <td>6.170000e+02</td>\n",
       "      <td>1.100000e+01</td>\n",
       "      <td>11.000000</td>\n",
       "      <td>11.000000</td>\n",
       "      <td>0.010000</td>\n",
       "      <td>0.000000</td>\n",
       "      <td>0.010000</td>\n",
       "      <td>0.000000</td>\n",
       "      <td>0.000000</td>\n",
       "      <td>0.000000</td>\n",
       "    </tr>\n",
       "    <tr>\n",
       "      <th>25%</th>\n",
       "      <td>2.309026e+06</td>\n",
       "      <td>1.255322e+09</td>\n",
       "      <td>6.010138e+08</td>\n",
       "      <td>2.100000e+01</td>\n",
       "      <td>18.000000</td>\n",
       "      <td>21.000000</td>\n",
       "      <td>24.330000</td>\n",
       "      <td>0.000000</td>\n",
       "      <td>62.000000</td>\n",
       "      <td>0.000000</td>\n",
       "      <td>19.526299</td>\n",
       "      <td>0.103980</td>\n",
       "    </tr>\n",
       "    <tr>\n",
       "      <th>50%</th>\n",
       "      <td>4.565712e+06</td>\n",
       "      <td>1.497854e+09</td>\n",
       "      <td>6.052138e+08</td>\n",
       "      <td>4.700000e+01</td>\n",
       "      <td>33.000000</td>\n",
       "      <td>44.000000</td>\n",
       "      <td>64.374416</td>\n",
       "      <td>0.000000</td>\n",
       "      <td>141.996711</td>\n",
       "      <td>0.000000</td>\n",
       "      <td>47.459112</td>\n",
       "      <td>4.960771</td>\n",
       "    </tr>\n",
       "    <tr>\n",
       "      <th>75%</th>\n",
       "      <td>6.876783e+06</td>\n",
       "      <td>1.750322e+09</td>\n",
       "      <td>6.110423e+08</td>\n",
       "      <td>1.310000e+02</td>\n",
       "      <td>79.000000</td>\n",
       "      <td>118.000000</td>\n",
       "      <td>111.890000</td>\n",
       "      <td>0.914877</td>\n",
       "      <td>281.000000</td>\n",
       "      <td>3.957047</td>\n",
       "      <td>85.794524</td>\n",
       "      <td>15.738189</td>\n",
       "    </tr>\n",
       "    <tr>\n",
       "      <th>max</th>\n",
       "      <td>9.153107e+06</td>\n",
       "      <td>1.992998e+09</td>\n",
       "      <td>6.313661e+08</td>\n",
       "      <td>1.092721e+06</td>\n",
       "      <td>170152.000000</td>\n",
       "      <td>279254.000000</td>\n",
       "      <td>32799.949219</td>\n",
       "      <td>10326.988384</td>\n",
       "      <td>98000.000000</td>\n",
       "      <td>27576.714201</td>\n",
       "      <td>25545.394688</td>\n",
       "      <td>8950.803036</td>\n",
       "    </tr>\n",
       "  </tbody>\n",
       "</table>\n",
       "</div>"
      ],
      "text/plain": [
       "         Unnamed: 0           npi  nppes_provider_zip  line_srvc_cnt  \\\n",
       "count  3.838360e+05  3.838360e+05        3.838360e+05   3.838360e+05   \n",
       "mean   4.590852e+06  1.500959e+09        5.419772e+08   2.342250e+02   \n",
       "std    2.631574e+06  2.867022e+08        1.901098e+08   4.080380e+03   \n",
       "min    8.000000e+00  1.003000e+09        6.170000e+02   1.100000e+01   \n",
       "25%    2.309026e+06  1.255322e+09        6.010138e+08   2.100000e+01   \n",
       "50%    4.565712e+06  1.497854e+09        6.052138e+08   4.700000e+01   \n",
       "75%    6.876783e+06  1.750322e+09        6.110423e+08   1.310000e+02   \n",
       "max    9.153107e+06  1.992998e+09        6.313661e+08   1.092721e+06   \n",
       "\n",
       "       bene_unique_cnt  bene_day_srvc_cnt  average_Medicare_allowed_amt  \\\n",
       "count    383836.000000      383836.000000                 383836.000000   \n",
       "mean         87.829404         148.955275                     98.711634   \n",
       "std         602.548455        1111.001193                    190.735353   \n",
       "min          11.000000          11.000000                      0.010000   \n",
       "25%          18.000000          21.000000                     24.330000   \n",
       "50%          33.000000          44.000000                     64.374416   \n",
       "75%          79.000000         118.000000                    111.890000   \n",
       "max      170152.000000      279254.000000                  32799.949219   \n",
       "\n",
       "       stdev_Medicare_allowed_amt  average_submitted_chrg_amt  \\\n",
       "count               383836.000000               383836.000000   \n",
       "mean                     6.523625                  342.210917   \n",
       "std                     36.948683                  929.079600   \n",
       "min                      0.000000                    0.010000   \n",
       "25%                      0.000000                   62.000000   \n",
       "50%                      0.000000                  141.996711   \n",
       "75%                      0.914877                  281.000000   \n",
       "max                  10326.988384                98000.000000   \n",
       "\n",
       "       stdev_submitted_chrg_amt  average_Medicare_payment_amt  \\\n",
       "count             383836.000000                 383836.000000   \n",
       "mean                  23.792301                     76.799866   \n",
       "std                  168.214616                    150.965856   \n",
       "min                    0.000000                      0.000000   \n",
       "25%                    0.000000                     19.526299   \n",
       "50%                    0.000000                     47.459112   \n",
       "75%                    3.957047                     85.794524   \n",
       "max                27576.714201                  25545.394688   \n",
       "\n",
       "       stdev_Medicare_payment_amt  \n",
       "count               383836.000000  \n",
       "mean                    12.313532  \n",
       "std                     33.020354  \n",
       "min                      0.000000  \n",
       "25%                      0.103980  \n",
       "50%                      4.960771  \n",
       "75%                     15.738189  \n",
       "max                   8950.803036  "
      ]
     },
     "execution_count": 3,
     "metadata": {},
     "output_type": "execute_result"
    }
   ],
   "source": [
    "f_IL.describe()"
   ]
  },
  {
   "cell_type": "code",
   "execution_count": 81,
   "metadata": {
    "collapsed": false,
    "deletable": true,
    "editable": true
   },
   "outputs": [
    {
     "data": {
      "text/html": [
       "<div style=\"max-height:1000px;max-width:1500px;overflow:auto;\">\n",
       "<table border=\"1\" class=\"dataframe\">\n",
       "  <thead>\n",
       "    <tr style=\"text-align: right;\">\n",
       "      <th></th>\n",
       "      <th>Unnamed: 0</th>\n",
       "      <th>npi</th>\n",
       "      <th>nppes_provider_last_org_name</th>\n",
       "      <th>nppes_provider_first_name</th>\n",
       "      <th>nppes_provider_mi</th>\n",
       "      <th>nppes_credentials</th>\n",
       "      <th>nppes_provider_gender</th>\n",
       "      <th>nppes_entity_code</th>\n",
       "      <th>nppes_provider_street1</th>\n",
       "      <th>nppes_provider_street2</th>\n",
       "      <th>...</th>\n",
       "      <th>hcpcs_description</th>\n",
       "      <th>line_srvc_cnt</th>\n",
       "      <th>bene_unique_cnt</th>\n",
       "      <th>bene_day_srvc_cnt</th>\n",
       "      <th>average_Medicare_allowed_amt</th>\n",
       "      <th>stdev_Medicare_allowed_amt</th>\n",
       "      <th>average_submitted_chrg_amt</th>\n",
       "      <th>stdev_submitted_chrg_amt</th>\n",
       "      <th>average_Medicare_payment_amt</th>\n",
       "      <th>stdev_Medicare_payment_amt</th>\n",
       "    </tr>\n",
       "  </thead>\n",
       "  <tbody>\n",
       "    <tr>\n",
       "      <th>0</th>\n",
       "      <td>  8</td>\n",
       "      <td> 1003000134</td>\n",
       "      <td> CIBULL</td>\n",
       "      <td> THOMAS</td>\n",
       "      <td> L</td>\n",
       "      <td> M.D.</td>\n",
       "      <td> M</td>\n",
       "      <td> I</td>\n",
       "      <td> 2650 RIDGE AVE</td>\n",
       "      <td> EVANSTON HOSPITAL</td>\n",
       "      <td>...</td>\n",
       "      <td> Tissue exam by pathologist</td>\n",
       "      <td>  226</td>\n",
       "      <td>  207</td>\n",
       "      <td>  209</td>\n",
       "      <td> 11.640000</td>\n",
       "      <td> 0.000000</td>\n",
       "      <td> 115</td>\n",
       "      <td> 0</td>\n",
       "      <td>  8.980442</td>\n",
       "      <td> 1.720341</td>\n",
       "    </tr>\n",
       "    <tr>\n",
       "      <th>1</th>\n",
       "      <td>  9</td>\n",
       "      <td> 1003000134</td>\n",
       "      <td> CIBULL</td>\n",
       "      <td> THOMAS</td>\n",
       "      <td> L</td>\n",
       "      <td> M.D.</td>\n",
       "      <td> M</td>\n",
       "      <td> I</td>\n",
       "      <td> 2650 RIDGE AVE</td>\n",
       "      <td> EVANSTON HOSPITAL</td>\n",
       "      <td>...</td>\n",
       "      <td> Tissue exam by pathologist</td>\n",
       "      <td> 6070</td>\n",
       "      <td> 3624</td>\n",
       "      <td> 4416</td>\n",
       "      <td> 37.729960</td>\n",
       "      <td> 0.001257</td>\n",
       "      <td> 170</td>\n",
       "      <td> 0</td>\n",
       "      <td> 28.984504</td>\n",
       "      <td> 5.626832</td>\n",
       "    </tr>\n",
       "    <tr>\n",
       "      <th>2</th>\n",
       "      <td> 10</td>\n",
       "      <td> 1003000134</td>\n",
       "      <td> CIBULL</td>\n",
       "      <td> THOMAS</td>\n",
       "      <td> L</td>\n",
       "      <td> M.D.</td>\n",
       "      <td> M</td>\n",
       "      <td> I</td>\n",
       "      <td> 2650 RIDGE AVE</td>\n",
       "      <td> EVANSTON HOSPITAL</td>\n",
       "      <td>...</td>\n",
       "      <td>           Decalcify tissue</td>\n",
       "      <td>   13</td>\n",
       "      <td>   13</td>\n",
       "      <td>   13</td>\n",
       "      <td> 12.700000</td>\n",
       "      <td> 0.000000</td>\n",
       "      <td>  39</td>\n",
       "      <td> 0</td>\n",
       "      <td>  7.815385</td>\n",
       "      <td> 4.280662</td>\n",
       "    </tr>\n",
       "    <tr>\n",
       "      <th>3</th>\n",
       "      <td> 11</td>\n",
       "      <td> 1003000134</td>\n",
       "      <td> CIBULL</td>\n",
       "      <td> THOMAS</td>\n",
       "      <td> L</td>\n",
       "      <td> M.D.</td>\n",
       "      <td> M</td>\n",
       "      <td> I</td>\n",
       "      <td> 2650 RIDGE AVE</td>\n",
       "      <td> EVANSTON HOSPITAL</td>\n",
       "      <td>...</td>\n",
       "      <td>     Special stains group 1</td>\n",
       "      <td>  330</td>\n",
       "      <td>  231</td>\n",
       "      <td>  238</td>\n",
       "      <td> 27.149576</td>\n",
       "      <td> 0.005433</td>\n",
       "      <td>  88</td>\n",
       "      <td> 0</td>\n",
       "      <td> 21.391364</td>\n",
       "      <td> 2.646612</td>\n",
       "    </tr>\n",
       "    <tr>\n",
       "      <th>4</th>\n",
       "      <td> 12</td>\n",
       "      <td> 1003000134</td>\n",
       "      <td> CIBULL</td>\n",
       "      <td> THOMAS</td>\n",
       "      <td> L</td>\n",
       "      <td> M.D.</td>\n",
       "      <td> M</td>\n",
       "      <td> I</td>\n",
       "      <td> 2650 RIDGE AVE</td>\n",
       "      <td> EVANSTON HOSPITAL</td>\n",
       "      <td>...</td>\n",
       "      <td>     Special stains group 2</td>\n",
       "      <td>   51</td>\n",
       "      <td>   46</td>\n",
       "      <td>   48</td>\n",
       "      <td> 12.340000</td>\n",
       "      <td> 0.000000</td>\n",
       "      <td>  68</td>\n",
       "      <td> 0</td>\n",
       "      <td>  9.676471</td>\n",
       "      <td> 1.368460</td>\n",
       "    </tr>\n",
       "  </tbody>\n",
       "</table>\n",
       "<p>5 rows × 28 columns</p>\n",
       "</div>"
      ],
      "text/plain": [
       "   Unnamed: 0         npi nppes_provider_last_org_name  \\\n",
       "0           8  1003000134                       CIBULL   \n",
       "1           9  1003000134                       CIBULL   \n",
       "2          10  1003000134                       CIBULL   \n",
       "3          11  1003000134                       CIBULL   \n",
       "4          12  1003000134                       CIBULL   \n",
       "\n",
       "  nppes_provider_first_name nppes_provider_mi nppes_credentials  \\\n",
       "0                    THOMAS                 L              M.D.   \n",
       "1                    THOMAS                 L              M.D.   \n",
       "2                    THOMAS                 L              M.D.   \n",
       "3                    THOMAS                 L              M.D.   \n",
       "4                    THOMAS                 L              M.D.   \n",
       "\n",
       "  nppes_provider_gender nppes_entity_code nppes_provider_street1  \\\n",
       "0                     M                 I         2650 RIDGE AVE   \n",
       "1                     M                 I         2650 RIDGE AVE   \n",
       "2                     M                 I         2650 RIDGE AVE   \n",
       "3                     M                 I         2650 RIDGE AVE   \n",
       "4                     M                 I         2650 RIDGE AVE   \n",
       "\n",
       "  nppes_provider_street2             ...              \\\n",
       "0      EVANSTON HOSPITAL             ...               \n",
       "1      EVANSTON HOSPITAL             ...               \n",
       "2      EVANSTON HOSPITAL             ...               \n",
       "3      EVANSTON HOSPITAL             ...               \n",
       "4      EVANSTON HOSPITAL             ...               \n",
       "\n",
       "            hcpcs_description  line_srvc_cnt bene_unique_cnt  \\\n",
       "0  Tissue exam by pathologist            226             207   \n",
       "1  Tissue exam by pathologist           6070            3624   \n",
       "2            Decalcify tissue             13              13   \n",
       "3      Special stains group 1            330             231   \n",
       "4      Special stains group 2             51              46   \n",
       "\n",
       "  bene_day_srvc_cnt average_Medicare_allowed_amt stdev_Medicare_allowed_amt  \\\n",
       "0               209                    11.640000                   0.000000   \n",
       "1              4416                    37.729960                   0.001257   \n",
       "2                13                    12.700000                   0.000000   \n",
       "3               238                    27.149576                   0.005433   \n",
       "4                48                    12.340000                   0.000000   \n",
       "\n",
       "  average_submitted_chrg_amt stdev_submitted_chrg_amt  \\\n",
       "0                        115                        0   \n",
       "1                        170                        0   \n",
       "2                         39                        0   \n",
       "3                         88                        0   \n",
       "4                         68                        0   \n",
       "\n",
       "  average_Medicare_payment_amt  stdev_Medicare_payment_amt  \n",
       "0                     8.980442                    1.720341  \n",
       "1                    28.984504                    5.626832  \n",
       "2                     7.815385                    4.280662  \n",
       "3                    21.391364                    2.646612  \n",
       "4                     9.676471                    1.368460  \n",
       "\n",
       "[5 rows x 28 columns]"
      ]
     },
     "execution_count": 81,
     "metadata": {},
     "output_type": "execute_result"
    }
   ],
   "source": [
    "f_IL.head(5)"
   ]
  },
  {
   "cell_type": "code",
   "execution_count": 4,
   "metadata": {
    "collapsed": false,
    "deletable": true,
    "editable": true
   },
   "outputs": [],
   "source": [
    "#### \n",
    "# THIS IS FOR QUIZ\n",
    "\n",
    "#g_CA=data[data[\"nppes_provider_state\"]==\"CA\"] \n",
    "#f_CA=g_CA[g_CA[\"provider_type\"]==\"Pathology\"]\n",
    "CA_data = cwd +\"/medicare_data/Medicare_Data_CA_2012.csv\"\n",
    "f_CA = read_csv(CA_data)"
   ]
  },
  {
   "cell_type": "code",
   "execution_count": 5,
   "metadata": {
    "collapsed": false,
    "deletable": true,
    "editable": true
   },
   "outputs": [
    {
     "data": {
      "text/html": [
       "<div>\n",
       "<table border=\"1\" class=\"dataframe\">\n",
       "  <thead>\n",
       "    <tr style=\"text-align: right;\">\n",
       "      <th></th>\n",
       "      <th>Unnamed: 0</th>\n",
       "      <th>npi</th>\n",
       "      <th>nppes_provider_zip</th>\n",
       "      <th>line_srvc_cnt</th>\n",
       "      <th>bene_unique_cnt</th>\n",
       "      <th>bene_day_srvc_cnt</th>\n",
       "      <th>average_Medicare_allowed_amt</th>\n",
       "      <th>stdev_Medicare_allowed_amt</th>\n",
       "      <th>average_submitted_chrg_amt</th>\n",
       "      <th>stdev_submitted_chrg_amt</th>\n",
       "      <th>average_Medicare_payment_amt</th>\n",
       "      <th>stdev_Medicare_payment_amt</th>\n",
       "    </tr>\n",
       "  </thead>\n",
       "  <tbody>\n",
       "    <tr>\n",
       "      <th>count</th>\n",
       "      <td>7.206740e+05</td>\n",
       "      <td>7.206740e+05</td>\n",
       "      <td>7.206740e+05</td>\n",
       "      <td>7.206740e+05</td>\n",
       "      <td>720674.000000</td>\n",
       "      <td>720674.000000</td>\n",
       "      <td>720674.000000</td>\n",
       "      <td>720674.000000</td>\n",
       "      <td>720674.000000</td>\n",
       "      <td>720674.000000</td>\n",
       "      <td>720674.000000</td>\n",
       "      <td>720674.000000</td>\n",
       "    </tr>\n",
       "    <tr>\n",
       "      <th>mean</th>\n",
       "      <td>4.585898e+06</td>\n",
       "      <td>1.500344e+09</td>\n",
       "      <td>8.346929e+08</td>\n",
       "      <td>2.812427e+02</td>\n",
       "      <td>102.331233</td>\n",
       "      <td>179.379574</td>\n",
       "      <td>111.293877</td>\n",
       "      <td>7.809624</td>\n",
       "      <td>331.248677</td>\n",
       "      <td>25.237833</td>\n",
       "      <td>87.010924</td>\n",
       "      <td>13.320523</td>\n",
       "    </tr>\n",
       "    <tr>\n",
       "      <th>std</th>\n",
       "      <td>2.640442e+06</td>\n",
       "      <td>2.877989e+08</td>\n",
       "      <td>2.816170e+08</td>\n",
       "      <td>6.436580e+03</td>\n",
       "      <td>1362.434098</td>\n",
       "      <td>2525.185671</td>\n",
       "      <td>251.640149</td>\n",
       "      <td>42.255461</td>\n",
       "      <td>912.444946</td>\n",
       "      <td>179.022768</td>\n",
       "      <td>200.377147</td>\n",
       "      <td>36.112845</td>\n",
       "    </tr>\n",
       "    <tr>\n",
       "      <th>min</th>\n",
       "      <td>8.200000e+01</td>\n",
       "      <td>1.003001e+09</td>\n",
       "      <td>6.851000e+03</td>\n",
       "      <td>7.700000e+00</td>\n",
       "      <td>11.000000</td>\n",
       "      <td>11.000000</td>\n",
       "      <td>0.002338</td>\n",
       "      <td>0.000000</td>\n",
       "      <td>0.002338</td>\n",
       "      <td>0.000000</td>\n",
       "      <td>0.000000</td>\n",
       "      <td>0.000000</td>\n",
       "    </tr>\n",
       "    <tr>\n",
       "      <th>25%</th>\n",
       "      <td>2.292733e+06</td>\n",
       "      <td>1.245566e+09</td>\n",
       "      <td>9.080754e+08</td>\n",
       "      <td>2.200000e+01</td>\n",
       "      <td>18.000000</td>\n",
       "      <td>21.000000</td>\n",
       "      <td>25.680000</td>\n",
       "      <td>0.000000</td>\n",
       "      <td>54.000000</td>\n",
       "      <td>0.000000</td>\n",
       "      <td>20.797109</td>\n",
       "      <td>0.001467</td>\n",
       "    </tr>\n",
       "    <tr>\n",
       "      <th>50%</th>\n",
       "      <td>4.604860e+06</td>\n",
       "      <td>1.508814e+09</td>\n",
       "      <td>9.255368e+08</td>\n",
       "      <td>4.700000e+01</td>\n",
       "      <td>33.000000</td>\n",
       "      <td>44.000000</td>\n",
       "      <td>68.990000</td>\n",
       "      <td>0.000000</td>\n",
       "      <td>131.000000</td>\n",
       "      <td>0.000000</td>\n",
       "      <td>51.294046</td>\n",
       "      <td>4.807574</td>\n",
       "    </tr>\n",
       "    <tr>\n",
       "      <th>75%</th>\n",
       "      <td>6.864378e+06</td>\n",
       "      <td>1.740512e+09</td>\n",
       "      <td>9.430322e+08</td>\n",
       "      <td>1.330000e+02</td>\n",
       "      <td>79.000000</td>\n",
       "      <td>119.000000</td>\n",
       "      <td>122.637770</td>\n",
       "      <td>0.960892</td>\n",
       "      <td>280.268969</td>\n",
       "      <td>3.711537</td>\n",
       "      <td>93.379180</td>\n",
       "      <td>16.663135</td>\n",
       "    </tr>\n",
       "    <tr>\n",
       "      <th>max</th>\n",
       "      <td>9.153143e+06</td>\n",
       "      <td>1.992998e+09</td>\n",
       "      <td>9.924343e+08</td>\n",
       "      <td>3.707234e+06</td>\n",
       "      <td>256034.000000</td>\n",
       "      <td>508209.000000</td>\n",
       "      <td>36489.655263</td>\n",
       "      <td>5643.068806</td>\n",
       "      <td>73526.000000</td>\n",
       "      <td>19444.525000</td>\n",
       "      <td>29191.722895</td>\n",
       "      <td>4702.487861</td>\n",
       "    </tr>\n",
       "  </tbody>\n",
       "</table>\n",
       "</div>"
      ],
      "text/plain": [
       "         Unnamed: 0           npi  nppes_provider_zip  line_srvc_cnt  \\\n",
       "count  7.206740e+05  7.206740e+05        7.206740e+05   7.206740e+05   \n",
       "mean   4.585898e+06  1.500344e+09        8.346929e+08   2.812427e+02   \n",
       "std    2.640442e+06  2.877989e+08        2.816170e+08   6.436580e+03   \n",
       "min    8.200000e+01  1.003001e+09        6.851000e+03   7.700000e+00   \n",
       "25%    2.292733e+06  1.245566e+09        9.080754e+08   2.200000e+01   \n",
       "50%    4.604860e+06  1.508814e+09        9.255368e+08   4.700000e+01   \n",
       "75%    6.864378e+06  1.740512e+09        9.430322e+08   1.330000e+02   \n",
       "max    9.153143e+06  1.992998e+09        9.924343e+08   3.707234e+06   \n",
       "\n",
       "       bene_unique_cnt  bene_day_srvc_cnt  average_Medicare_allowed_amt  \\\n",
       "count    720674.000000      720674.000000                 720674.000000   \n",
       "mean        102.331233         179.379574                    111.293877   \n",
       "std        1362.434098        2525.185671                    251.640149   \n",
       "min          11.000000          11.000000                      0.002338   \n",
       "25%          18.000000          21.000000                     25.680000   \n",
       "50%          33.000000          44.000000                     68.990000   \n",
       "75%          79.000000         119.000000                    122.637770   \n",
       "max      256034.000000      508209.000000                  36489.655263   \n",
       "\n",
       "       stdev_Medicare_allowed_amt  average_submitted_chrg_amt  \\\n",
       "count               720674.000000               720674.000000   \n",
       "mean                     7.809624                  331.248677   \n",
       "std                     42.255461                  912.444946   \n",
       "min                      0.000000                    0.002338   \n",
       "25%                      0.000000                   54.000000   \n",
       "50%                      0.000000                  131.000000   \n",
       "75%                      0.960892                  280.268969   \n",
       "max                   5643.068806                73526.000000   \n",
       "\n",
       "       stdev_submitted_chrg_amt  average_Medicare_payment_amt  \\\n",
       "count             720674.000000                 720674.000000   \n",
       "mean                  25.237833                     87.010924   \n",
       "std                  179.022768                    200.377147   \n",
       "min                    0.000000                      0.000000   \n",
       "25%                    0.000000                     20.797109   \n",
       "50%                    0.000000                     51.294046   \n",
       "75%                    3.711537                     93.379180   \n",
       "max                19444.525000                  29191.722895   \n",
       "\n",
       "       stdev_Medicare_payment_amt  \n",
       "count               720674.000000  \n",
       "mean                    13.320523  \n",
       "std                     36.112845  \n",
       "min                      0.000000  \n",
       "25%                      0.001467  \n",
       "50%                      4.807574  \n",
       "75%                     16.663135  \n",
       "max                   4702.487861  "
      ]
     },
     "execution_count": 5,
     "metadata": {},
     "output_type": "execute_result"
    }
   ],
   "source": [
    "# THIS IS FOR QUIZ\n",
    "f_CA.describe()"
   ]
  },
  {
   "cell_type": "code",
   "execution_count": 6,
   "metadata": {
    "collapsed": false,
    "deletable": true,
    "editable": true
   },
   "outputs": [
    {
     "data": {
      "text/html": [
       "<div>\n",
       "<table border=\"1\" class=\"dataframe\">\n",
       "  <thead>\n",
       "    <tr style=\"text-align: right;\">\n",
       "      <th></th>\n",
       "      <th>Unnamed: 0</th>\n",
       "      <th>npi</th>\n",
       "      <th>nppes_provider_last_org_name</th>\n",
       "      <th>nppes_provider_first_name</th>\n",
       "      <th>nppes_provider_mi</th>\n",
       "      <th>nppes_credentials</th>\n",
       "      <th>nppes_provider_gender</th>\n",
       "      <th>nppes_entity_code</th>\n",
       "      <th>nppes_provider_street1</th>\n",
       "      <th>nppes_provider_street2</th>\n",
       "      <th>...</th>\n",
       "      <th>hcpcs_description</th>\n",
       "      <th>line_srvc_cnt</th>\n",
       "      <th>bene_unique_cnt</th>\n",
       "      <th>bene_day_srvc_cnt</th>\n",
       "      <th>average_Medicare_allowed_amt</th>\n",
       "      <th>stdev_Medicare_allowed_amt</th>\n",
       "      <th>average_submitted_chrg_amt</th>\n",
       "      <th>stdev_submitted_chrg_amt</th>\n",
       "      <th>average_Medicare_payment_amt</th>\n",
       "      <th>stdev_Medicare_payment_amt</th>\n",
       "    </tr>\n",
       "  </thead>\n",
       "  <tbody>\n",
       "    <tr>\n",
       "      <th>0</th>\n",
       "      <td>82</td>\n",
       "      <td>1003000712</td>\n",
       "      <td>MALLORY</td>\n",
       "      <td>SHEILA</td>\n",
       "      <td>O</td>\n",
       "      <td>N. P.</td>\n",
       "      <td>F</td>\n",
       "      <td>I</td>\n",
       "      <td>1867 E FIR AVE STE 104</td>\n",
       "      <td>NaN</td>\n",
       "      <td>...</td>\n",
       "      <td>Ultrasound guidance for accessing into blood v...</td>\n",
       "      <td>14.0</td>\n",
       "      <td>14.0</td>\n",
       "      <td>14.0</td>\n",
       "      <td>12.820000</td>\n",
       "      <td>0.000000</td>\n",
       "      <td>57.0</td>\n",
       "      <td>0.0</td>\n",
       "      <td>10.260000</td>\n",
       "      <td>0.000000</td>\n",
       "    </tr>\n",
       "    <tr>\n",
       "      <th>1</th>\n",
       "      <td>108</td>\n",
       "      <td>1003001017</td>\n",
       "      <td>NICHOLS</td>\n",
       "      <td>LAWRENCE</td>\n",
       "      <td>M</td>\n",
       "      <td>M.D</td>\n",
       "      <td>M</td>\n",
       "      <td>I</td>\n",
       "      <td>5471 LA PALMA AVE</td>\n",
       "      <td>STE. 202</td>\n",
       "      <td>...</td>\n",
       "      <td>Destruction of skin growth</td>\n",
       "      <td>110.0</td>\n",
       "      <td>62.0</td>\n",
       "      <td>110.0</td>\n",
       "      <td>91.570000</td>\n",
       "      <td>6.172714</td>\n",
       "      <td>100.0</td>\n",
       "      <td>0.0</td>\n",
       "      <td>66.659818</td>\n",
       "      <td>20.146418</td>\n",
       "    </tr>\n",
       "    <tr>\n",
       "      <th>2</th>\n",
       "      <td>109</td>\n",
       "      <td>1003001017</td>\n",
       "      <td>NICHOLS</td>\n",
       "      <td>LAWRENCE</td>\n",
       "      <td>M</td>\n",
       "      <td>M.D</td>\n",
       "      <td>M</td>\n",
       "      <td>I</td>\n",
       "      <td>5471 LA PALMA AVE</td>\n",
       "      <td>STE. 202</td>\n",
       "      <td>...</td>\n",
       "      <td>Destruction of multiple skin growths</td>\n",
       "      <td>262.0</td>\n",
       "      <td>46.0</td>\n",
       "      <td>71.0</td>\n",
       "      <td>8.030000</td>\n",
       "      <td>0.000000</td>\n",
       "      <td>10.0</td>\n",
       "      <td>0.0</td>\n",
       "      <td>6.042405</td>\n",
       "      <td>2.879763</td>\n",
       "    </tr>\n",
       "    <tr>\n",
       "      <th>3</th>\n",
       "      <td>110</td>\n",
       "      <td>1003001017</td>\n",
       "      <td>NICHOLS</td>\n",
       "      <td>LAWRENCE</td>\n",
       "      <td>M</td>\n",
       "      <td>M.D</td>\n",
       "      <td>M</td>\n",
       "      <td>I</td>\n",
       "      <td>5471 LA PALMA AVE</td>\n",
       "      <td>STE. 202</td>\n",
       "      <td>...</td>\n",
       "      <td>Destruction of multiple skin growths</td>\n",
       "      <td>430.0</td>\n",
       "      <td>158.0</td>\n",
       "      <td>430.0</td>\n",
       "      <td>191.490000</td>\n",
       "      <td>0.000000</td>\n",
       "      <td>220.0</td>\n",
       "      <td>0.0</td>\n",
       "      <td>146.658651</td>\n",
       "      <td>24.311615</td>\n",
       "    </tr>\n",
       "    <tr>\n",
       "      <th>4</th>\n",
       "      <td>111</td>\n",
       "      <td>1003001017</td>\n",
       "      <td>NICHOLS</td>\n",
       "      <td>LAWRENCE</td>\n",
       "      <td>M</td>\n",
       "      <td>M.D</td>\n",
       "      <td>M</td>\n",
       "      <td>I</td>\n",
       "      <td>5471 LA PALMA AVE</td>\n",
       "      <td>STE. 202</td>\n",
       "      <td>...</td>\n",
       "      <td>Skin application of tar and ultraviolet B or p...</td>\n",
       "      <td>121.0</td>\n",
       "      <td>31.0</td>\n",
       "      <td>121.0</td>\n",
       "      <td>86.185455</td>\n",
       "      <td>7.060642</td>\n",
       "      <td>95.0</td>\n",
       "      <td>0.0</td>\n",
       "      <td>68.319752</td>\n",
       "      <td>6.533262</td>\n",
       "    </tr>\n",
       "  </tbody>\n",
       "</table>\n",
       "<p>5 rows × 28 columns</p>\n",
       "</div>"
      ],
      "text/plain": [
       "   Unnamed: 0         npi nppes_provider_last_org_name  \\\n",
       "0          82  1003000712                      MALLORY   \n",
       "1         108  1003001017                      NICHOLS   \n",
       "2         109  1003001017                      NICHOLS   \n",
       "3         110  1003001017                      NICHOLS   \n",
       "4         111  1003001017                      NICHOLS   \n",
       "\n",
       "  nppes_provider_first_name nppes_provider_mi nppes_credentials  \\\n",
       "0                    SHEILA                 O             N. P.   \n",
       "1                  LAWRENCE                 M               M.D   \n",
       "2                  LAWRENCE                 M               M.D   \n",
       "3                  LAWRENCE                 M               M.D   \n",
       "4                  LAWRENCE                 M               M.D   \n",
       "\n",
       "  nppes_provider_gender nppes_entity_code  nppes_provider_street1  \\\n",
       "0                     F                 I  1867 E FIR AVE STE 104   \n",
       "1                     M                 I       5471 LA PALMA AVE   \n",
       "2                     M                 I       5471 LA PALMA AVE   \n",
       "3                     M                 I       5471 LA PALMA AVE   \n",
       "4                     M                 I       5471 LA PALMA AVE   \n",
       "\n",
       "  nppes_provider_street2             ...              \\\n",
       "0                    NaN             ...               \n",
       "1               STE. 202             ...               \n",
       "2               STE. 202             ...               \n",
       "3               STE. 202             ...               \n",
       "4               STE. 202             ...               \n",
       "\n",
       "                                   hcpcs_description  line_srvc_cnt  \\\n",
       "0  Ultrasound guidance for accessing into blood v...           14.0   \n",
       "1                         Destruction of skin growth          110.0   \n",
       "2               Destruction of multiple skin growths          262.0   \n",
       "3               Destruction of multiple skin growths          430.0   \n",
       "4  Skin application of tar and ultraviolet B or p...          121.0   \n",
       "\n",
       "  bene_unique_cnt bene_day_srvc_cnt average_Medicare_allowed_amt  \\\n",
       "0            14.0              14.0                    12.820000   \n",
       "1            62.0             110.0                    91.570000   \n",
       "2            46.0              71.0                     8.030000   \n",
       "3           158.0             430.0                   191.490000   \n",
       "4            31.0             121.0                    86.185455   \n",
       "\n",
       "  stdev_Medicare_allowed_amt average_submitted_chrg_amt  \\\n",
       "0                   0.000000                       57.0   \n",
       "1                   6.172714                      100.0   \n",
       "2                   0.000000                       10.0   \n",
       "3                   0.000000                      220.0   \n",
       "4                   7.060642                       95.0   \n",
       "\n",
       "  stdev_submitted_chrg_amt average_Medicare_payment_amt  \\\n",
       "0                      0.0                    10.260000   \n",
       "1                      0.0                    66.659818   \n",
       "2                      0.0                     6.042405   \n",
       "3                      0.0                   146.658651   \n",
       "4                      0.0                    68.319752   \n",
       "\n",
       "   stdev_Medicare_payment_amt  \n",
       "0                    0.000000  \n",
       "1                   20.146418  \n",
       "2                    2.879763  \n",
       "3                   24.311615  \n",
       "4                    6.533262  \n",
       "\n",
       "[5 rows x 28 columns]"
      ]
     },
     "execution_count": 6,
     "metadata": {},
     "output_type": "execute_result"
    }
   ],
   "source": [
    "# THIS IS FOR QUIZ\n",
    "f_CA.head(5)"
   ]
  },
  {
   "cell_type": "code",
   "execution_count": 7,
   "metadata": {
    "collapsed": false,
    "deletable": true,
    "editable": true
   },
   "outputs": [
    {
     "data": {
      "text/plain": [
       "28"
      ]
     },
     "execution_count": 7,
     "metadata": {},
     "output_type": "execute_result"
    }
   ],
   "source": [
    "len(f_IL.columns)"
   ]
  },
  {
   "cell_type": "code",
   "execution_count": 9,
   "metadata": {
    "collapsed": false,
    "deletable": true,
    "editable": true
   },
   "outputs": [
    {
     "name": "stdout",
     "output_type": "stream",
     "text": [
      "Unnamed: 0\n",
      "npi\n",
      "nppes_provider_last_org_name\n",
      "nppes_provider_first_name\n",
      "nppes_provider_mi\n",
      "nppes_credentials\n",
      "nppes_provider_gender\n",
      "nppes_entity_code\n",
      "nppes_provider_street1\n",
      "nppes_provider_street2\n",
      "nppes_provider_city\n",
      "nppes_provider_zip\n",
      "nppes_provider_state\n",
      "nppes_provider_country\n",
      "provider_type\n",
      "medicare_participation_indicator\n",
      "place_of_service\n",
      "hcpcs_code\n",
      "hcpcs_description\n",
      "line_srvc_cnt\n",
      "bene_unique_cnt\n",
      "bene_day_srvc_cnt\n",
      "average_Medicare_allowed_amt\n",
      "stdev_Medicare_allowed_amt\n",
      "average_submitted_chrg_amt\n",
      "stdev_submitted_chrg_amt\n",
      "average_Medicare_payment_amt\n",
      "stdev_Medicare_payment_amt\n"
     ]
    }
   ],
   "source": [
    "for c in f_IL.columns : print(c)"
   ]
  },
  {
   "cell_type": "markdown",
   "metadata": {
    "deletable": true,
    "editable": true
   },
   "source": []
  },
  {
   "cell_type": "code",
   "execution_count": 10,
   "metadata": {
    "collapsed": false,
    "deletable": true,
    "editable": true
   },
   "outputs": [
    {
     "name": "stdout",
     "output_type": "stream",
     "text": [
      "82\n",
      "772\n",
      "2986\n"
     ]
    }
   ],
   "source": [
    "#pal1 = dict(M=\"#4682B4\", F=\"#CD5C5C\")\n",
    "print(len(f_IL.provider_type.unique()))\n",
    "print(len(f_IL.nppes_provider_city.unique()))\n",
    "print(len(f_IL.hcpcs_description.unique()))"
   ]
  },
  {
   "cell_type": "code",
   "execution_count": 11,
   "metadata": {
    "collapsed": false,
    "deletable": true,
    "editable": true
   },
   "outputs": [],
   "source": [
    "f0 = f_IL.average_submitted_chrg_amt.values\n",
    "f1 = f_IL.average_Medicare_payment_amt.values\n",
    "f2 = f_IL.average_Medicare_allowed_amt.values"
   ]
  },
  {
   "cell_type": "code",
   "execution_count": 12,
   "metadata": {
    "collapsed": false,
    "deletable": true,
    "editable": true
   },
   "outputs": [
    {
     "data": {
      "text/plain": [
       "[None, None]"
      ]
     },
     "execution_count": 12,
     "metadata": {},
     "output_type": "execute_result"
    },
    {
     "data": {
      "image/png": "[encoded data removed]",
      "text/plain": [
       "<matplotlib.figure.Figure at 0x1dc148f8080>"
      ]
     },
     "metadata": {},
     "output_type": "display_data"
    }
   ],
   "source": [
    "n0, bins0, patches0=plt.hist(f0,50,normed=1, range=(0,1000),\n",
    "                             histtype='stepfilled')\n",
    "n2, bins2, patches2=plt.hist(f2,50,normed=1, range=(0,1000),\n",
    "                             histtype='stepfilled')\n",
    "plt.setp(patches0, 'facecolor', 'g', 'alpha', 0.75)\n",
    "plt.setp(patches2, 'facecolor', 'b', 'alpha', 0.75)"
   ]
  },
  {
   "cell_type": "code",
   "execution_count": 13,
   "metadata": {
    "collapsed": false,
    "deletable": true,
    "editable": true
   },
   "outputs": [
    {
     "data": {
      "text/plain": [
       "[None, None]"
      ]
     },
     "execution_count": 13,
     "metadata": {},
     "output_type": "execute_result"
    },
    {
     "data": {
      "image/png": "[encoded data removed]",
      "text/plain": [
       "<matplotlib.figure.Figure at 0x1dc130e3128>"
      ]
     },
     "metadata": {},
     "output_type": "display_data"
    }
   ],
   "source": [
    "n0, bins0, patches0=plt.hist(f0,50,normed=1, log=0,range=(0,1000),\n",
    "                             histtype='stepfilled')\n",
    "n1, bins1, patches1=plt.hist(f1,50,normed=1, log=0,range=(0,1000),\n",
    "                             histtype='stepfilled')\n",
    "plt.setp(patches1, 'facecolor', 'r', 'alpha', 0.75)\n",
    "plt.setp(patches0, 'facecolor', 'g', 'alpha', 0.75)"
   ]
  },
  {
   "cell_type": "code",
   "execution_count": 14,
   "metadata": {
    "collapsed": false,
    "deletable": true,
    "editable": true
   },
   "outputs": [],
   "source": [
    "#### \n",
    "# THIS IS FOR QUIZ\n",
    "\n",
    "g0 = f_CA.average_submitted_chrg_amt.values\n",
    "g1 = f_CA.average_Medicare_payment_amt.values\n",
    "g2 = f_CA.average_Medicare_allowed_amt.values"
   ]
  },
  {
   "cell_type": "code",
   "execution_count": 17,
   "metadata": {
    "collapsed": false,
    "deletable": true,
    "editable": true
   },
   "outputs": [
    {
     "data": {
      "text/plain": [
       "[None, None]"
      ]
     },
     "execution_count": 17,
     "metadata": {},
     "output_type": "execute_result"
    },
    {
     "data": {
      "image/png": "[encoded data removed]",
      "text/plain": [
       "<matplotlib.figure.Figure at 0x1dc13310080>"
      ]
     },
     "metadata": {},
     "output_type": "display_data"
    }
   ],
   "source": [
    "#### \n",
    "# THIS IS FOR QUIZ\n",
    "n0, bins0, patches0=plt.hist(g0,50,normed=0, range=(0,1000),\n",
    "                             histtype='stepfilled')\n",
    "n2, bins2, patches2=plt.hist(g2,50,normed=0, range=(0,1000),\n",
    "                             histtype='stepfilled')\n",
    "plt.setp(patches0, 'facecolor', 'g', 'alpha', 0.75)\n",
    "plt.setp(patches2, 'facecolor', 'b', 'alpha', 0.75)"
   ]
  },
  {
   "cell_type": "code",
   "execution_count": 20,
   "metadata": {
    "collapsed": false,
    "deletable": true,
    "editable": true
   },
   "outputs": [
    {
     "data": {
      "text/plain": [
       "[None, None]"
      ]
     },
     "execution_count": 20,
     "metadata": {},
     "output_type": "execute_result"
    },
    {
     "data": {
      "image/png": "[encoded data removed]",
      "text/plain": [
       "<matplotlib.figure.Figure at 0x1dc132cae10>"
      ]
     },
     "metadata": {},
     "output_type": "display_data"
    }
   ],
   "source": [
    "#### \n",
    "# THIS IS FOR QUIZ\n",
    "n0, bins0, patches0=plt.hist(g0,50,normed=1, log=0,range=(0,1000),\n",
    "                             histtype='stepfilled')\n",
    "n1, bins1, patches1=plt.hist(g1,50,normed=1, log=0,range=(0,1000),\n",
    "                             histtype='stepfilled')\n",
    "plt.setp(patches1, 'facecolor', 'r', 'alpha', 0.75)\n",
    "plt.setp(patches0, 'facecolor', 'g', 'alpha', 0.75)"
   ]
  },
  {
   "cell_type": "code",
   "execution_count": 21,
   "metadata": {
    "collapsed": false,
    "deletable": true,
    "editable": true
   },
   "outputs": [
    {
     "data": {
      "text/plain": [
       "[None, None]"
      ]
     },
     "execution_count": 21,
     "metadata": {},
     "output_type": "execute_result"
    },
    {
     "data": {
      "image/png": "[encoded data removed]",
      "text/plain": [
       "<matplotlib.figure.Figure at 0x1dc1328d860>"
      ]
     },
     "metadata": {},
     "output_type": "display_data"
    }
   ],
   "source": [
    "n0, bins0, patches0=plt.hist((f0-f0.min())/(f0.max() - f0.min()),40,\n",
    "                             normed=1,log=0,range=(0.,1.02),\n",
    "                             histtype='stepfilled')\n",
    "n1, bins1, patches1=plt.hist((f1-f1.min())/(f1.max() - f1.min()),40,\n",
    "                             normed=1,log=0,range=(0,1.02),\n",
    "                             histtype='stepfilled')\n",
    "plt.setp(patches0, 'facecolor', 'g', 'alpha', 0.75)\n",
    "plt.setp(patches1, 'facecolor', 'r', 'alpha', 0.75)"
   ]
  },
  {
   "cell_type": "code",
   "execution_count": 22,
   "metadata": {
    "collapsed": false,
    "deletable": true,
    "editable": true
   },
   "outputs": [
    {
     "data": {
      "text/plain": [
       "[None, None]"
      ]
     },
     "execution_count": 22,
     "metadata": {},
     "output_type": "execute_result"
    },
    {
     "data": {
      "image/png": "[encoded data removed]",
      "text/plain": [
       "<matplotlib.figure.Figure at 0x1dc130a9240>"
      ]
     },
     "metadata": {},
     "output_type": "display_data"
    }
   ],
   "source": [
    "n0, bins0, patches0=plt.hist((f0-f0.min())/(f0.max() - f0.min()),50,\n",
    "                             normed=1, log=1,range=(-0.2,1.2),\n",
    "                             histtype='stepfilled')\n",
    "n1, bins1, patches1=plt.hist((f2-f2.min())/(f2.max() - f2.min()),40,\n",
    "                             normed=1, log=1,range=(-0.2,1.2),\n",
    "                             histtype='stepfilled')\n",
    "plt.setp(patches0, 'facecolor', 'g', 'alpha', 0.75)\n",
    "plt.setp(patches1, 'facecolor', 'r', 'alpha', 0.75)"
   ]
  },
  {
   "cell_type": "code",
   "execution_count": 23,
   "metadata": {
    "collapsed": false,
    "deletable": true,
    "editable": true
   },
   "outputs": [
    {
     "data": {
      "text/plain": [
       "<matplotlib.collections.PathCollection at 0x1dc13104dd8>"
      ]
     },
     "execution_count": 23,
     "metadata": {},
     "output_type": "execute_result"
    },
    {
     "data": {
      "image/png": "[encoded data removed]",
      "text/plain": [
       "<matplotlib.figure.Figure at 0x1dc13b3f080>"
      ]
     },
     "metadata": {},
     "output_type": "display_data"
    }
   ],
   "source": [
    "plt.scatter((f1 - f1.min())/(f1.max() - f1.min()),(f2-f2.min())/(f2.max() - f2.min()),\n",
    "            marker=\"o\",color=\"g\")"
   ]
  },
  {
   "cell_type": "code",
   "execution_count": 24,
   "metadata": {
    "collapsed": false,
    "deletable": true,
    "editable": true
   },
   "outputs": [
    {
     "data": {
      "text/plain": [
       "<matplotlib.collections.PathCollection at 0x1dc132be7b8>"
      ]
     },
     "execution_count": 24,
     "metadata": {},
     "output_type": "execute_result"
    },
    {
     "data": {
      "image/png": "[encoded data removed]",
      "text/plain": [
       "<matplotlib.figure.Figure at 0x1dc13831940>"
      ]
     },
     "metadata": {},
     "output_type": "display_data"
    }
   ],
   "source": [
    "plt.scatter((f0 - f0.min())/(f0.max() - f0.min()),(f1-f1.min())/(f1.max() - f1.min()),\n",
    "            marker=\"x\",color=\"b\")"
   ]
  },
  {
   "cell_type": "code",
   "execution_count": 25,
   "metadata": {
    "collapsed": false,
    "deletable": true,
    "editable": true
   },
   "outputs": [
    {
     "data": {
      "text/plain": [
       "(0.99891928056799761, 0.0)"
      ]
     },
     "execution_count": 25,
     "metadata": {},
     "output_type": "execute_result"
    }
   ],
   "source": [
    "from scipy.stats import pearsonr\n",
    "pearsonr(f1,f2)"
   ]
  },
  {
   "cell_type": "code",
   "execution_count": 33,
   "metadata": {
    "collapsed": false,
    "deletable": true,
    "editable": true
   },
   "outputs": [
    {
     "ename": "AttributeError",
     "evalue": "module 'seaborn' has no attribute 'corrplot'",
     "output_type": "error",
     "traceback": [
      "\u001b[1;31m---------------------------------------------------------------------------\u001b[0m",
      "\u001b[1;31mAttributeError\u001b[0m                            Traceback (most recent call last)",
      "\u001b[1;32m<ipython-input-33-4cf5a7e6f659>\u001b[0m in \u001b[0;36m<module>\u001b[1;34m()\u001b[0m\n\u001b[0;32m      1\u001b[0m \u001b[0msns\u001b[0m\u001b[1;33m.\u001b[0m\u001b[0mset\u001b[0m\u001b[1;33m(\u001b[0m\u001b[0mstyle\u001b[0m\u001b[1;33m=\u001b[0m\u001b[1;34m\"darkgrid\"\u001b[0m\u001b[1;33m)\u001b[0m\u001b[1;33m\u001b[0m\u001b[0m\n\u001b[0;32m      2\u001b[0m \u001b[0mf\u001b[0m\u001b[1;33m,\u001b[0m \u001b[0max\u001b[0m \u001b[1;33m=\u001b[0m \u001b[0mplt\u001b[0m\u001b[1;33m.\u001b[0m\u001b[0msubplots\u001b[0m\u001b[1;33m(\u001b[0m\u001b[0mfigsize\u001b[0m\u001b[1;33m=\u001b[0m\u001b[1;33m(\u001b[0m\u001b[1;36m10\u001b[0m\u001b[1;33m,\u001b[0m \u001b[1;36m10\u001b[0m\u001b[1;33m)\u001b[0m\u001b[1;33m)\u001b[0m\u001b[1;33m\u001b[0m\u001b[0m\n\u001b[1;32m----> 3\u001b[1;33m sns.corrplot(f_IL, annot=False, sig_stars=True,\n\u001b[0m\u001b[0;32m      4\u001b[0m              diag_names=False, ax=ax)\n\u001b[0;32m      5\u001b[0m \u001b[0mf\u001b[0m\u001b[1;33m.\u001b[0m\u001b[0mtight_layout\u001b[0m\u001b[1;33m(\u001b[0m\u001b[1;33m)\u001b[0m\u001b[1;33m\u001b[0m\u001b[0m\n",
      "\u001b[1;31mAttributeError\u001b[0m: module 'seaborn' has no attribute 'corrplot'"
     ]
    },
    {
     "data": {
      "image/png": "[encoded data removed]",
      "text/plain": [
       "<matplotlib.figure.Figure at 0x1dc5802b0f0>"
      ]
     },
     "metadata": {},
     "output_type": "display_data"
    }
   ],
   "source": [
    "sns.set(style=\"darkgrid\")\n",
    "f, ax = plt.subplots(figsize=(10, 10))\n",
    "sns.corrplot(f_IL, annot=False, sig_stars=True,\n",
    "             diag_names=False, ax=ax)\n",
    "f.tight_layout()"
   ]
  },
  {
   "cell_type": "code",
   "execution_count": 35,
   "metadata": {
    "collapsed": false,
    "deletable": true,
    "editable": true
   },
   "outputs": [
    {
     "data": {
      "text/plain": [
       "(0.99891928056799684, 0.0)"
      ]
     },
     "execution_count": 35,
     "metadata": {},
     "output_type": "execute_result"
    }
   ],
   "source": [
    "##for quiz\n",
    "#\n",
    "from scipy.stats import pearsonr\n",
    "pearsonr((f1 - f1.min())/(f1.max() - f1.min()),f2/(f2.max() - f2.min()))"
   ]
  },
  {
   "cell_type": "code",
   "execution_count": 67,
   "metadata": {
    "collapsed": false,
    "deletable": true,
    "editable": true
   },
   "outputs": [
    {
     "data": {
      "text/plain": [
       "[None, None]"
      ]
     },
     "execution_count": 67,
     "metadata": {},
     "output_type": "execute_result"
    },
    {
     "data": {
      "image/png": "[encoded data removed]",
      "text/plain": [
       "<matplotlib.figure.Figure at 0x116406650>"
      ]
     },
     "metadata": {},
     "output_type": "display_data"
    }
   ],
   "source": [
    "\n",
    "x = abs(f0-f1)/f0\n",
    "n0, bins0, patches0=plt.hist(x,100,normed=0,range=(0,1),histtype='stepfilled')\n",
    "plt.setp(patches0, 'facecolor', 'g', 'alpha', 0.75)"
   ]
  },
  {
   "cell_type": "code",
   "execution_count": 68,
   "metadata": {
    "collapsed": false,
    "deletable": true,
    "editable": true
   },
   "outputs": [
    {
     "data": {
      "text/plain": [
       "[None, None]"
      ]
     },
     "execution_count": 68,
     "metadata": {},
     "output_type": "execute_result"
    },
    {
     "data": {
      "image/png": "[encoded data removed]",
      "text/plain": [
       "<matplotlib.figure.Figure at 0x116436d10>"
      ]
     },
     "metadata": {},
     "output_type": "display_data"
    }
   ],
   "source": [
    "## For QUIZ\n",
    "y = abs(g0-g1)/g0\n",
    "n1, bins1, patches1=plt.hist(x,200,normed=1,range=(-0.05,1),log=0,histtype='stepfilled')\n",
    "n2, bins2, patches2=plt.hist(y,200,normed=1,range=(-0.5,1),log=0,histtype='stepfilled')\n",
    "plt.setp(patches1, 'facecolor', 'g', 'alpha', 0.75)\n",
    "plt.setp(patches2, 'facecolor', 'r', 'alpha', 0.75)"
   ]
  },
  {
   "cell_type": "code",
   "execution_count": 69,
   "metadata": {
    "collapsed": false,
    "deletable": true,
    "editable": true
   },
   "outputs": [],
   "source": [
    "from scipy import stats\n",
    "from functools import partial\n",
    "def my_kde_bandwidth(obj, fac=1./5):\n",
    "    \"\"\"We use Scott's Rule, multiplied by a constant factor.\"\"\"\n",
    "    return np.power(obj.n, -1./(obj.d+4)) * fac\n",
    "\n",
    "def getKDE(data, name=\"\", bwfac = 0.2):\n",
    "    x2=data\n",
    "    x_eval = np.linspace(x2.min() - 1, x2.max() + 1, 500)\n",
    "    kde = stats.gaussian_kde(x2, bw_method=partial(my_kde_bandwidth, fac=bwfac))\n",
    "    fig1 = plt.figure(figsize=(8, 6))\n",
    "    ax = fig1.add_subplot(111)\n",
    "    plt.yscale=('log')\n",
    "    plt.grid(True)\n",
    "    x2h1, x2h2 =np.histogram(x2,bins=[0.,0.1,0.2,0.3,0.4,0.5,0.6,0.7,0.8,0.9,1.0],normed=True)\n",
    "    ax.plot(x2, np.zeros(x2.shape), 'b+', ms=12)\n",
    "    ax.plot(x_eval, kde(x_eval), 'g-', label=\"Scott *\"+str(bwfac))\n",
    "    ax.plot(x2h2[:-1], x2h1, 'r--', label=\"Actual PDF\")\n",
    "    ax.set_xlim([-0.5,1.5])\n",
    "    ax.legend(loc=2)\n",
    "    ax.set_xlabel('x')\n",
    "    ax.set_ylabel('Density Estimate')\n",
    "#     plt.savefig(cwd+\"/Plots/KDE_\"+name+\".png\")\n",
    "    return plt\n"
   ]
  },
  {
   "cell_type": "code",
   "execution_count": 70,
   "metadata": {
    "collapsed": false,
    "deletable": true,
    "editable": true
   },
   "outputs": [
    {
     "data": {
      "text/plain": [
       "<matplotlib.figure.Figure at 0x11c2faad0>"
      ]
     },
     "metadata": {},
     "output_type": "display_data"
    },
    {
     "data": {
      "image/png": "[encoded data removed]",
      "text/plain": [
       "<matplotlib.figure.Figure at 0x11c2dcb10>"
      ]
     },
     "metadata": {},
     "output_type": "display_data"
    }
   ],
   "source": [
    "plt.clf()\n",
    "plt=getKDE(x,\"Fractional Diff of Claimed vs Paid\",bwfac=0.1)"
   ]
  },
  {
   "cell_type": "code",
   "execution_count": 71,
   "metadata": {
    "collapsed": false,
    "deletable": true,
    "editable": true
   },
   "outputs": [
    {
     "data": {
      "text/plain": [
       "<matplotlib.figure.Figure at 0x1165e4a90>"
      ]
     },
     "metadata": {},
     "output_type": "display_data"
    },
    {
     "data": {
      "image/png": "[encoded data removed]",
      "text/plain": [
       "<matplotlib.figure.Figure at 0x11ad1dd10>"
      ]
     },
     "metadata": {},
     "output_type": "display_data"
    }
   ],
   "source": [
    "plt.clf()\n",
    "plt=getKDE(x,\"Fractional Diff of Claimed vs Paid\",bwfac=0.2)"
   ]
  },
  {
   "cell_type": "code",
   "execution_count": 35,
   "metadata": {
    "collapsed": false,
    "deletable": true,
    "editable": true
   },
   "outputs": [
    {
     "data": {
      "text/plain": [
       "<matplotlib.figure.Figure at 0x110031310>"
      ]
     },
     "metadata": {},
     "output_type": "display_data"
    },
    {
     "data": {
      "image/png": "[encoded data removed]",
      "text/plain": [
       "<matplotlib.figure.Figure at 0x110031490>"
      ]
     },
     "metadata": {},
     "output_type": "display_data"
    }
   ],
   "source": [
    "plt.clf()\n",
    "plt=getKDE(x,\"Fractional Diff of Claimed vs Paid\",bwfac=0.7)"
   ]
  },
  {
   "cell_type": "code",
   "execution_count": 36,
   "metadata": {
    "collapsed": false,
    "deletable": true,
    "editable": true
   },
   "outputs": [
    {
     "data": {
      "text/plain": [
       "<matplotlib.figure.Figure at 0x119f2d110>"
      ]
     },
     "metadata": {},
     "output_type": "display_data"
    },
    {
     "data": {
      "image/png": "[encoded data removed]",
      "text/plain": [
       "<matplotlib.figure.Figure at 0x1166f9a90>"
      ]
     },
     "metadata": {},
     "output_type": "display_data"
    }
   ],
   "source": [
    "plt.clf()\n",
    "plt=getKDE(x,\"Fractional Diff of Claimed vs Paid\",bwfac=0.9)"
   ]
  },
  {
   "cell_type": "code",
   "execution_count": 37,
   "metadata": {
    "collapsed": false,
    "deletable": true,
    "editable": true
   },
   "outputs": [
    {
     "data": {
      "text/plain": [
       "<matplotlib.figure.Figure at 0x1163303d0>"
      ]
     },
     "metadata": {},
     "output_type": "display_data"
    },
    {
     "data": {
      "image/png": "[encoded data removed]",
      "text/plain": [
       "<matplotlib.figure.Figure at 0x116330390>"
      ]
     },
     "metadata": {},
     "output_type": "display_data"
    }
   ],
   "source": [
    "plt.clf()\n",
    "plt=getKDE(x,\"Fractional Diff of Claimed vs Paid\",bwfac=0.99)"
   ]
  },
  {
   "cell_type": "code",
   "execution_count": 40,
   "metadata": {
    "collapsed": false,
    "deletable": true,
    "editable": true
   },
   "outputs": [],
   "source": [
    "def getAllKDE(data, name=\"\"):\n",
    "    x2=data\n",
    "    x_eval = np.linspace(x2.min() - 1, x2.max() + 1, 500)\n",
    "    \n",
    "    kde1 = stats.gaussian_kde(x2)\n",
    "    kde2 = stats.gaussian_kde(x2, bw_method='silverman')\n",
    "    kde3 = stats.gaussian_kde(x2, bw_method=partial(my_kde_bandwidth, fac=0.2))\n",
    "    kde4 = stats.gaussian_kde(x2, bw_method=partial(my_kde_bandwidth, fac=0.5))\n",
    "    pdf = stats.norm.pdf\n",
    "    fig1 = plt.figure(figsize=(12, 10))\n",
    "    ax = fig1.add_subplot(111)\n",
    "    \n",
    "    plt.yscale=('log')\n",
    "    plt.grid(True)\n",
    "    x2h1, x2h2 =np.histogram(x2,bins=[0.,0.1,0.2,0.3,0.4,0.5,0.6,0.7,0.8,0.9,1.0],normed=True)\n",
    "    ax.plot(x2, np.zeros(x2.shape), 'b+', ms=12)\n",
    "    ax.plot(x_eval, kde1(x_eval), 'k-', label=\"Scott's Rule\")\n",
    "    ax.plot(x_eval, kde2(x_eval), 'b-', label=\"Silverman's Rule\")\n",
    "    ax.plot(x_eval, kde3(x_eval), 'g-', label=\"Scott * 0.2\")\n",
    "    ax.plot(x_eval, kde4(x_eval), 'c-', label=\"Scott * 0.9\")\n",
    "    ax.plot(x2h2[:-1], x2h1, 'r--', label=\"Actual PDF\")\n",
    "    \n",
    "    \n",
    "    #ax.set_xlim([x_eval.min(), x_eval.max()])\n",
    "    ax.set_xlim([-0.5,1.5])\n",
    "    ax.legend(loc=2)\n",
    "    ax.set_xlabel('x')\n",
    "    ax.set_ylabel('Density Estimate')\n",
    "#     plt.savefig(cwd+\"/Plots/KDE_\"+name+\".png\")\n",
    "    return plt"
   ]
  },
  {
   "cell_type": "code",
   "execution_count": 41,
   "metadata": {
    "collapsed": false,
    "deletable": true,
    "editable": true
   },
   "outputs": [
    {
     "data": {
      "text/plain": [
       "<matplotlib.figure.Figure at 0x1160b3dd0>"
      ]
     },
     "metadata": {},
     "output_type": "display_data"
    },
    {
     "data": {
      "image/png": "[encoded data removed]",
      "text/plain": [
       "<matplotlib.figure.Figure at 0x10f1d63d0>"
      ]
     },
     "metadata": {},
     "output_type": "display_data"
    }
   ],
   "source": [
    "plt.clf()\n",
    "plt=getAllKDE(x,\"Fractional Diff of Claimed vs Paid\")"
   ]
  },
  {
   "cell_type": "code",
   "execution_count": null,
   "metadata": {
    "collapsed": false,
    "deletable": true,
    "editable": true
   },
   "outputs": [],
   "source": [
    "xbar = abs(f0 - f2)/f0\n",
    "g = sns.jointplot(x, xbar, kind=\"kde\", size=7, space=0)"
   ]
  },
  {
   "cell_type": "code",
   "execution_count": 72,
   "metadata": {
    "collapsed": false,
    "deletable": true,
    "editable": true
   },
   "outputs": [],
   "source": [
    "def MahalanobisDist(x, y):\n",
    "    covariance_xy = np.cov(x,y, rowvar=0)\n",
    "    inv_covariance_xy = np.linalg.inv(covariance_xy)\n",
    "    xy_mean = np.mean(x),np.mean(y)\n",
    "    x_diff = np.array([x_i - xy_mean[0] for x_i in x])\n",
    "    y_diff = np.array([y_i - xy_mean[1] for y_i in y])\n",
    "    diff_xy = np.transpose([x_diff, y_diff])\n",
    "    md = []\n",
    "    for i in range(len(diff_xy)):\n",
    "        md.append(np.sqrt(np.dot(np.dot(np.transpose(diff_xy[i]),\n",
    "                                        inv_covariance_xy),diff_xy[i])))\n",
    "    return md"
   ]
  },
  {
   "cell_type": "code",
   "execution_count": 73,
   "metadata": {
    "collapsed": false,
    "deletable": true,
    "editable": true
   },
   "outputs": [],
   "source": [
    "md = MahalanobisDist(x,xbar) "
   ]
  },
  {
   "cell_type": "code",
   "execution_count": 74,
   "metadata": {
    "collapsed": false,
    "deletable": true,
    "editable": true
   },
   "outputs": [],
   "source": [
    "def FindOutliers(x, y, p):\n",
    "    MD = MahalanobisDist(x, y)\n",
    "    nx, ny, outliers = [], [], []\n",
    "    threshold = -2*log(1-p)\n",
    "    for i in range(len(MD)):\n",
    "        if MD[i]*MD[i] < threshold:\n",
    "            nx.append(x[i])\n",
    "            ny.append(y[i])\n",
    "            outliers.append(i) # position of removed pair\n",
    "    return (np.array(nx), np.array(ny), np.array(outliers))"
   ]
  },
  {
   "cell_type": "code",
   "execution_count": 75,
   "metadata": {
    "collapsed": false,
    "deletable": true,
    "editable": true
   },
   "outputs": [],
   "source": [
    "Outliers = FindOutliers(x,xbar,0.00000243)"
   ]
  },
  {
   "cell_type": "code",
   "execution_count": 76,
   "metadata": {
    "collapsed": true,
    "deletable": true,
    "editable": true
   },
   "outputs": [],
   "source": [
    "#print Outliers\n",
    "\n",
    "def PlotOutliers(Outliers):\n",
    "    print \"Total Outliers found :\", len(Outliers[2])\n",
    "    print \"The index of the variables are :\", Outliers[2]\n",
    "    fig2 = plt.figure(figsize=(8, 6))\n",
    "    ax2 = fig2.add_subplot(111)\n",
    "    ax2.set_xlim([0.,1.])\n",
    "    ax2.legend(loc=2)\n",
    "    ax2.set_xlabel('1 - Allowed Amount/Paid Amount')\n",
    "    ax2.set_ylabel('1 - Submitted Amount/Paid Amount')\n",
    "    plt.scatter(Outliers[0],Outliers[1])\n",
    "    return plt"
   ]
  },
  {
   "cell_type": "code",
   "execution_count": 77,
   "metadata": {
    "collapsed": false,
    "deletable": true,
    "editable": true
   },
   "outputs": [
    {
     "name": "stdout",
     "output_type": "stream",
     "text": [
      "Total Outliers found : 4\n",
      "The index of the variables are : [ 64740 232865 275868 351303]\n"
     ]
    },
    {
     "name": "stderr",
     "output_type": "stream",
     "text": [
      "/usr/local/lib/python2.7/site-packages/matplotlib/axes.py:4747: UserWarning: No labeled objects found. Use label='...' kwarg on individual plots.\n",
      "  warnings.warn(\"No labeled objects found. \"\n"
     ]
    },
    {
     "data": {
      "text/plain": [
       "<matplotlib.figure.Figure at 0x116054250>"
      ]
     },
     "metadata": {},
     "output_type": "display_data"
    },
    {
     "data": {
      "image/png": "[encoded data removed]",
      "text/plain": [
       "<matplotlib.figure.Figure at 0x1163d26d0>"
      ]
     },
     "metadata": {},
     "output_type": "display_data"
    }
   ],
   "source": [
    "plt.clf()\n",
    "plt = PlotOutliers(Outliers)"
   ]
  },
  {
   "cell_type": "code",
   "execution_count": 90,
   "metadata": {
    "collapsed": false,
    "deletable": true,
    "editable": true
   },
   "outputs": [
    {
     "name": "stdout",
     "output_type": "stream",
     "text": [
      "Total Outliers found : 2\n",
      "The index of the variables are : (0.39575954197999996, 0.19700000000000006)\n"
     ]
    },
    {
     "data": {
      "text/plain": [
       "<matplotlib.figure.Figure at 0x12f27c310>"
      ]
     },
     "metadata": {},
     "output_type": "display_data"
    },
    {
     "data": {
      "image/png": "[encoded data removed]",
      "text/plain": [
       "<matplotlib.figure.Figure at 0x12f27c410>"
      ]
     },
     "metadata": {},
     "output_type": "display_data"
    }
   ],
   "source": [
    "# Quiz \n",
    "#SHow the indeces using g with y and ybar\n",
    "\n",
    "ybar = abs(g0-g2)/g0\n",
    "Outliers = FindOutliers(y,ybar,0.00000243)\n",
    "plt.clf()\n",
    "plt = PlotOutliers(zip(y,ybar))"
   ]
  },
  {
   "cell_type": "code",
   "execution_count": null,
   "metadata": {
    "collapsed": false,
    "deletable": true,
    "editable": true
   },
   "outputs": [],
   "source": []
  },
  {
   "cell_type": "code",
   "execution_count": null,
   "metadata": {
    "collapsed": true,
    "deletable": true,
    "editable": true
   },
   "outputs": [],
   "source": []
  }
 ],
 "metadata": {
  "kernelspec": {
   "display_name": "Python 3",
   "language": "python",
   "name": "python3"
  },
  "language_info": {
   "codemirror_mode": {
    "name": "ipython",
    "version": 3
   },
   "file_extension": ".py",
   "mimetype": "text/x-python",
   "name": "python",
   "nbconvert_exporter": "python",
   "pygments_lexer": "ipython3",
   "version": "3.6.0"
  }
 },
 "nbformat": 4,
 "nbformat_minor": 0
}
